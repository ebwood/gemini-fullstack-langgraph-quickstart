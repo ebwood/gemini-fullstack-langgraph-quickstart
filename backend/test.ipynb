{
 "cells": [
  {
   "cell_type": "code",
   "execution_count": 1,
   "metadata": {},
   "outputs": [
    {
     "name": "stdout",
     "output_type": "stream",
     "text": [
      "================================\u001b[1m Human Message \u001b[0m=================================\n",
      "\n",
      "WHo won the euro 2024?\n"
     ]
    },
    {
     "name": "stderr",
     "output_type": "stream",
     "text": [
      "Ignoring unknown node name web_search in pending sends\n",
      "Ignoring unknown node name web_search in pending sends\n"
     ]
    },
    {
     "name": "stdout",
     "output_type": "stream",
     "text": [
      "================================\u001b[1m Human Message \u001b[0m=================================\n",
      "\n",
      "WHo won the euro 2024?\n"
     ]
    }
   ],
   "source": [
    "from graph import graph\n",
    "from state import OverallState\n",
    "from langchain_core.messages import HumanMessage\n",
    "\n",
    "initial_state = OverallState(\n",
    "    messages=[HumanMessage(content=\"WHo won the euro 2024?\")],\n",
    "    max_research_loops=3,\n",
    "    initial_search_query_count=3\n",
    ")\n",
    "for chunk in graph.stream(initial_state, stream_mode=\"values\"):\n",
    "    messages = chunk[\"messages\"]\n",
    "    messages[-1].pretty_print()"
   ]
  }
 ],
 "metadata": {
  "kernelspec": {
   "display_name": ".venv",
   "language": "python",
   "name": "python3"
  },
  "language_info": {
   "codemirror_mode": {
    "name": "ipython",
    "version": 3
   },
   "file_extension": ".py",
   "mimetype": "text/x-python",
   "name": "python",
   "nbconvert_exporter": "python",
   "pygments_lexer": "ipython3",
   "version": "3.12.7"
  }
 },
 "nbformat": 4,
 "nbformat_minor": 2
}
